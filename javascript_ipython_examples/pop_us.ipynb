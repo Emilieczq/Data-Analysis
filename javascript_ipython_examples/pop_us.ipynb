{
 "cells": [
  {
   "cell_type": "markdown",
   "metadata": {},
   "source": [
    "# 2018 美国人口"
   ]
  },
  {
   "cell_type": "code",
   "execution_count": 1,
   "metadata": {},
   "outputs": [],
   "source": [
    "import numpy as np\n",
    "import pandas as pd\n",
    "import matplotlib.pyplot as pyplot\n",
    "from urllib.request import urlopen"
   ]
  },
  {
   "cell_type": "code",
   "execution_count": 2,
   "metadata": {},
   "outputs": [],
   "source": [
    "%matplotlib inline"
   ]
  },
  {
   "cell_type": "markdown",
   "metadata": {},
   "source": [
    "下载 __sub-est2018_all.csv__ 并储存在本文件同一路径下。这个表格来自美国人口调查局网站（ http://www.census.gov )。"
   ]
  },
  {
   "cell_type": "code",
   "execution_count": 3,
   "metadata": {},
   "outputs": [],
   "source": [
    "pop = pd.read_csv('sub-est2018_all.csv', encoding='latin-1',dtype={'STATE':'str','COUNTY':'str'})\n",
    "pop_by_state = pop[pop.SUMLEV == 40] # SUMLEV 40表示洲，50表示郡\n",
    "states = pop_by_state[['STNAME','POPESTIMATE2015','POPESTIMATE2016','POPESTIMATE2017','POPESTIMATE2018']]"
   ]
  },
  {
   "cell_type": "markdown",
   "metadata": {},
   "source": [
    "## 绘制条形图"
   ]
  },
  {
   "cell_type": "code",
   "execution_count": 4,
   "metadata": {
    "scrolled": true
   },
   "outputs": [],
   "source": [
    "sorted = states.sort_values(by='POPESTIMATE2018',ascending=False)[:5]"
   ]
  },
  {
   "cell_type": "code",
   "execution_count": 5,
   "metadata": {},
   "outputs": [
    {
     "name": "stdout",
     "output_type": "stream",
     "text": [
      "             STNAME  POPESTIMATE2015  POPESTIMATE2016  POPESTIMATE2017  \\\n",
      "2849     California         38953142         39209127         39399349   \n",
      "71188         Texas         27486814         27937492         28322717   \n",
      "5031        Florida         20224249         20629982         20976812   \n",
      "46217      New York         19661411         19641589         19590719   \n",
      "61453  Pennsylvania         12785759         12783538         12790447   \n",
      "\n",
      "       POPESTIMATE2018  \n",
      "2849          39557045  \n",
      "71188         28701845  \n",
      "5031          21299325  \n",
      "46217         19542209  \n",
      "61453         12807060  \n"
     ]
    }
   ],
   "source": [
    "print(sorted)"
   ]
  },
  {
   "cell_type": "code",
   "execution_count": 6,
   "metadata": {},
   "outputs": [],
   "source": [
    "from IPython.core.display import display, Javascript,HTML"
   ]
  },
  {
   "cell_type": "code",
   "execution_count": 7,
   "metadata": {},
   "outputs": [
    {
     "data": {
      "text/html": [
       "\n",
       "<style>\n",
       "\n",
       ".bar {\n",
       "    fill: steelblue;\n",
       "}\n",
       ".bar:hover {\n",
       "    fill: brown;\n",
       "}\n",
       ".axis {\n",
       "    font: 10px sans-serif;\n",
       "}\n",
       ".axis path,\n",
       ".axis line {\n",
       "    fill: none;\n",
       "    stroke: #000;\n",
       "}\n",
       ".x.axis path {\n",
       "    display: none;\n",
       "}\n",
       "</style>\n",
       "<div id=\"chart_d3\"/>\n"
      ],
      "text/plain": [
       "<IPython.core.display.HTML object>"
      ]
     },
     "metadata": {},
     "output_type": "display_data"
    }
   ],
   "source": [
    "display(HTML(\"\"\"\n",
    "<style>\n",
    "\n",
    ".bar {\n",
    "    fill: steelblue;\n",
    "}\n",
    ".bar:hover {\n",
    "    fill: brown;\n",
    "}\n",
    ".axis {\n",
    "    font: 10px sans-serif;\n",
    "}\n",
    ".axis path,\n",
    ".axis line {\n",
    "    fill: none;\n",
    "    stroke: #000;\n",
    "}\n",
    ".x.axis path {\n",
    "    display: none;\n",
    "}\n",
    "</style>\n",
    "<div id=\"chart_d3\"/>\n",
    "\"\"\"))"
   ]
  },
  {
   "cell_type": "code",
   "execution_count": 8,
   "metadata": {},
   "outputs": [],
   "source": [
    "import jinja2 #需要下载这个库"
   ]
  },
  {
   "cell_type": "markdown",
   "metadata": {},
   "source": [
    "导入库"
   ]
  },
  {
   "cell_type": "code",
   "execution_count": 9,
   "metadata": {},
   "outputs": [
    {
     "data": {
      "application/javascript": [
       "require.config({\n",
       "    paths: {\n",
       "        d3: '//cdnjs.cloudflare.com/ajax/libs/d3/3.5.5/d3.min'\n",
       "    }\n",
       "})\n"
      ],
      "text/plain": [
       "<IPython.core.display.Javascript object>"
      ]
     },
     "metadata": {},
     "output_type": "display_data"
    }
   ],
   "source": [
    "%%javascript\n",
    "require.config({\n",
    "    paths: {\n",
    "        d3: '//cdnjs.cloudflare.com/ajax/libs/d3/3.5.5/d3.min'\n",
    "    }\n",
    "})"
   ]
  },
  {
   "cell_type": "code",
   "execution_count": 10,
   "metadata": {},
   "outputs": [],
   "source": [
    "myTemplate = jinja2.Template(\"\"\"\n",
    "require([\"d3\"], function(d3){\n",
    "    var data = []\n",
    "    {% for row in data %}\n",
    "    data.push({ 'state': '{{ row[1] }}', 'population': {{ row[5] }} });\n",
    "    {% endfor %}\n",
    "d3.select(\"#chart_d3 svg\").remove()\n",
    "    var margin = {top: 50, right: 50, bottom: 120, left:50},\n",
    "        width = 800 - margin.left - margin.right,\n",
    "        height = 400 - margin.top - margin.bottom;\n",
    "    var x = d3.scale.ordinal()\n",
    "        .rangeRoundBands([0, width], .25);\n",
    "    var y = d3.scale.linear()\n",
    "        .range([height, 0]);\n",
    "    \n",
    "    var xAxis = d3.svg.axis()\n",
    "        .scale(x)\n",
    "        .orient(\"bottom\");\n",
    "    var yAxis = d3.svg.axis()\n",
    "        .scale(y)\n",
    "        .orient(\"left\")\n",
    "        .ticks(10)\n",
    "        .tickFormat(d3.format('.1s'));\n",
    "    \n",
    "    var svg = d3.select(\"#chart_d3\").append(\"svg\")\n",
    "        .attr(\"width\", width + margin.left + margin.right)\n",
    "        .attr(\"height\", height + margin.top + margin.bottom)\n",
    "        .append(\"g\")\n",
    "        .attr(\"transform\", \"translate(\" + margin.left + \",\" + margin.top + \")\");\n",
    "    x.domain(data.map(function(d){ return d.state;}));\n",
    "    y.domain([0, d3.max(data, function(d) { return d.population; })]);\n",
    "    \n",
    "    svg.append(\"g\")\n",
    "        .attr(\"class\", \"x axis\")\n",
    "        .attr(\"transform\", \"translate(0,\" + height + \")\")\n",
    "        .call(xAxis);\n",
    "    svg.append(\"g\")\n",
    "        .attr(\"class\", \"y axis\")\n",
    "        .call(yAxis)\n",
    "        .append(\"text\")\n",
    "        .attr(\"transform\", \"rotate(-90)\")\n",
    "        .attr(\"y\",6)\n",
    "        .attr(\"dy\", \".71em\")\n",
    "        .style(\"text-anchor\", \"end\")\n",
    "        .text(\"Population\");\n",
    "    svg.selectAll(\".bar\")\n",
    "        .data(data)\n",
    "        .enter().append(\"rect\")\n",
    "        .attr(\"class\", \"bar\")\n",
    "        .attr(\"x\", function(d) { return x(d.state); })\n",
    "        .attr(\"width\", x.rangeBand())\n",
    "        .attr(\"y\", function(d) {return y(d.population); })\n",
    "        .attr(\"height\", function(d) { return height - y(d.population); });\n",
    "});\n",
    "\"\"\");"
   ]
  },
  {
   "cell_type": "markdown",
   "metadata": {},
   "source": [
    "运行下列代码后，输出的图表将展示在 _import jinja2_ 前面。"
   ]
  },
  {
   "cell_type": "code",
   "execution_count": 11,
   "metadata": {},
   "outputs": [
    {
     "data": {
      "application/javascript": [
       "\n",
       "require([\"d3\"], function(d3){\n",
       "    var data = []\n",
       "    \n",
       "    data.push({ 'state': 'California', 'population': 39557045 });\n",
       "    \n",
       "    data.push({ 'state': 'Texas', 'population': 28701845 });\n",
       "    \n",
       "    data.push({ 'state': 'Florida', 'population': 21299325 });\n",
       "    \n",
       "    data.push({ 'state': 'New York', 'population': 19542209 });\n",
       "    \n",
       "    data.push({ 'state': 'Pennsylvania', 'population': 12807060 });\n",
       "    \n",
       "d3.select(\"#chart_d3 svg\").remove()\n",
       "    var margin = {top: 50, right: 50, bottom: 120, left:50},\n",
       "        width = 800 - margin.left - margin.right,\n",
       "        height = 400 - margin.top - margin.bottom;\n",
       "    var x = d3.scale.ordinal()\n",
       "        .rangeRoundBands([0, width], .25);\n",
       "    var y = d3.scale.linear()\n",
       "        .range([height, 0]);\n",
       "    \n",
       "    var xAxis = d3.svg.axis()\n",
       "        .scale(x)\n",
       "        .orient(\"bottom\");\n",
       "    var yAxis = d3.svg.axis()\n",
       "        .scale(y)\n",
       "        .orient(\"left\")\n",
       "        .ticks(10)\n",
       "        .tickFormat(d3.format('.1s'));\n",
       "    \n",
       "    var svg = d3.select(\"#chart_d3\").append(\"svg\")\n",
       "        .attr(\"width\", width + margin.left + margin.right)\n",
       "        .attr(\"height\", height + margin.top + margin.bottom)\n",
       "        .append(\"g\")\n",
       "        .attr(\"transform\", \"translate(\" + margin.left + \",\" + margin.top + \")\");\n",
       "    x.domain(data.map(function(d){ return d.state;}));\n",
       "    y.domain([0, d3.max(data, function(d) { return d.population; })]);\n",
       "    \n",
       "    svg.append(\"g\")\n",
       "        .attr(\"class\", \"x axis\")\n",
       "        .attr(\"transform\", \"translate(0,\" + height + \")\")\n",
       "        .call(xAxis);\n",
       "    svg.append(\"g\")\n",
       "        .attr(\"class\", \"y axis\")\n",
       "        .call(yAxis)\n",
       "        .append(\"text\")\n",
       "        .attr(\"transform\", \"rotate(-90)\")\n",
       "        .attr(\"y\",6)\n",
       "        .attr(\"dy\", \".71em\")\n",
       "        .style(\"text-anchor\", \"end\")\n",
       "        .text(\"Population\");\n",
       "    svg.selectAll(\".bar\")\n",
       "        .data(data)\n",
       "        .enter().append(\"rect\")\n",
       "        .attr(\"class\", \"bar\")\n",
       "        .attr(\"x\", function(d) { return x(d.state); })\n",
       "        .attr(\"width\", x.rangeBand())\n",
       "        .attr(\"y\", function(d) {return y(d.population); })\n",
       "        .attr(\"height\", function(d) { return height - y(d.population); });\n",
       "});"
      ],
      "text/plain": [
       "<IPython.core.display.Javascript object>"
      ]
     },
     "metadata": {},
     "output_type": "display_data"
    }
   ],
   "source": [
    "display(Javascript(myTemplate.render(\n",
    "    data=states.sort_values(['POPESTIMATE2018'], ascending=False)[:5].itertuples()\n",
    ")))"
   ]
  },
  {
   "cell_type": "markdown",
   "metadata": {},
   "source": [
    "## 绘制簇状条形图"
   ]
  },
  {
   "cell_type": "markdown",
   "metadata": {},
   "source": [
    "绘制2015至2018年四年的美国人口最多的五个洲的人口统计图。"
   ]
  },
  {
   "cell_type": "code",
   "execution_count": 12,
   "metadata": {},
   "outputs": [
    {
     "data": {
      "text/html": [
       "\n",
       "<style>\n",
       "\n",
       ".bar2015 {\n",
       "    fill: blue;\n",
       "}\n",
       ".bar2016 {\n",
       "    fill: green;\n",
       "}\n",
       ".bar2017 {\n",
       "    fill: yellow;\n",
       "}\n",
       ".bar2018 {\n",
       "    fill: red;\n",
       "}\n",
       ".axis {\n",
       "    font: 10px sans-serif;\n",
       "}\n",
       ".axis path,\n",
       ".axis line {\n",
       "    fill: none;\n",
       "    stroke: #000;\n",
       "}\n",
       ".x.axis path {\n",
       "    display: none;\n",
       "}\n",
       "</style>\n",
       "<div id=\"chart_d3_2\"/>\n"
      ],
      "text/plain": [
       "<IPython.core.display.HTML object>"
      ]
     },
     "metadata": {},
     "output_type": "display_data"
    }
   ],
   "source": [
    "display(HTML(\"\"\"\n",
    "<style>\n",
    "\n",
    ".bar2015 {\n",
    "    fill: blue;\n",
    "}\n",
    ".bar2016 {\n",
    "    fill: green;\n",
    "}\n",
    ".bar2017 {\n",
    "    fill: yellow;\n",
    "}\n",
    ".bar2018 {\n",
    "    fill: red;\n",
    "}\n",
    ".axis {\n",
    "    font: 10px sans-serif;\n",
    "}\n",
    ".axis path,\n",
    ".axis line {\n",
    "    fill: none;\n",
    "    stroke: #000;\n",
    "}\n",
    ".x.axis path {\n",
    "    display: none;\n",
    "}\n",
    "</style>\n",
    "<div id=\"chart_d3_2\"/>\n",
    "\"\"\"))"
   ]
  },
  {
   "cell_type": "code",
   "execution_count": 13,
   "metadata": {},
   "outputs": [],
   "source": [
    "import jinja2\n",
    "\n",
    "myTemplate = jinja2.Template(\"\"\"\n",
    "require([\"d3\"], function(d3){\n",
    "    var data = []\n",
    "    var data2 = []\n",
    "    var data3 = []\n",
    "    var data4 = []\n",
    "    {% for row in data %}\n",
    "    data.push({ 'state': '{{ row[1] }}', 'population': {{ row[2] }} });\n",
    "    data2.push({ 'state': '{{ row[1] }}', 'population': {{ row[3] }} });\n",
    "    data3.push({ 'state': '{{ row[1] }}', 'population': {{ row[4] }} });\n",
    "    data4.push({ 'state': '{{ row[1] }}', 'population': {{ row[5] }} });\n",
    "    {% endfor %}\n",
    "d3.select(\"#chart_d3_2 svg\").remove()\n",
    "    var margin = {top: 50, right: 50, bottom: 120, left:50},\n",
    "        width = 800 - margin.left - margin.right,\n",
    "        height = 400 - margin.top - margin.bottom;\n",
    "    var x = d3.scale.ordinal()\n",
    "        .rangeRoundBands([0, width], .25);\n",
    "    var y = d3.scale.linear()\n",
    "        .range([height, 0]);\n",
    "    \n",
    "    var xAxis = d3.svg.axis()\n",
    "        .scale(x)\n",
    "        .orient(\"bottom\");\n",
    "    var yAxis = d3.svg.axis()\n",
    "        .scale(y)\n",
    "        .orient(\"left\")\n",
    "        .ticks(10)\n",
    "        .tickFormat(d3.format('.1s'));\n",
    "    \n",
    "    var svg = d3.select(\"#chart_d3_2\").append(\"svg\")\n",
    "        .attr(\"width\", width + margin.left + margin.right)\n",
    "        .attr(\"height\", height + margin.top + margin.bottom)\n",
    "        .append(\"g\")\n",
    "        .attr(\"transform\", \"translate(\" + margin.left + \",\" + margin.top + \")\");\n",
    "    x.domain(data.map(function(d){ return d.state;}));\n",
    "    y.domain([0, d3.max(data, function(d) { return d.population; })]);\n",
    "    \n",
    "    svg.append(\"g\")\n",
    "        .attr(\"class\", \"x axis\")\n",
    "        .attr(\"transform\", \"translate(0,\" + height + \")\")\n",
    "        .call(xAxis);\n",
    "    svg.append(\"g\")\n",
    "        .attr(\"class\", \"y axis\")\n",
    "        .call(yAxis)\n",
    "        .append(\"text\")\n",
    "        .attr(\"transform\", \"rotate(-90)\")\n",
    "        .attr(\"y\",6)\n",
    "        .attr(\"dy\", \".71em\")\n",
    "        .style(\"text-anchor\", \"end\")\n",
    "        .text(\"Population\");\n",
    "    svg.selectAll(\".bar2015\")\n",
    "        .data(data)\n",
    "        .enter().append(\"rect\")\n",
    "        .attr(\"class\", \"bar2015\")\n",
    "        .attr(\"x\", function(d) { return x(d.state); })\n",
    "        .attr(\"width\", x.rangeBand()/4)\n",
    "        .attr(\"y\", function(d) {return y(d.population); })\n",
    "        .attr(\"height\", function(d) { return height - y(d.population); });\n",
    "    svg.selectAll(\".bar2016\")\n",
    "        .data(data2)\n",
    "        .enter().append(\"rect\")\n",
    "        .attr(\"class\", \"bar2016\")\n",
    "        .attr(\"x\", function(d) { return (x(d.state)+x.rangeBand()/4); })\n",
    "        .attr(\"width\", x.rangeBand()/4)\n",
    "        .attr(\"y\", function(d) {return y(d.population); })\n",
    "        .attr(\"height\", function(d) { return height - y(d.population); });\n",
    "    svg.selectAll(\".bar2017\")\n",
    "        .data(data3)\n",
    "        .enter().append(\"rect\")\n",
    "        .attr(\"class\", \"bar2017\")\n",
    "        .attr(\"x\", function(d) { return (x(d.state)+2*x.rangeBand()/4); })\n",
    "        .attr(\"width\", x.rangeBand()/4)\n",
    "        .attr(\"y\", function(d) {return y(d.population); })\n",
    "        .attr(\"height\", function(d) { return height - y(d.population); });\n",
    "    svg.selectAll(\".bar2018\")\n",
    "        .data(data4)\n",
    "        .enter().append(\"rect\")\n",
    "        .attr(\"class\", \"bar2018\")\n",
    "        .attr(\"x\", function(d) { return (x(d.state)+3*x.rangeBand()/4); })\n",
    "        .attr(\"width\", x.rangeBand()/4)\n",
    "        .attr(\"y\", function(d) {return y(d.population); })\n",
    "        .attr(\"height\", function(d) { return height - y(d.population); });\n",
    "});\n",
    "\"\"\");"
   ]
  },
  {
   "cell_type": "code",
   "execution_count": 14,
   "metadata": {},
   "outputs": [
    {
     "data": {
      "application/javascript": [
       "\n",
       "require([\"d3\"], function(d3){\n",
       "    var data = []\n",
       "    var data2 = []\n",
       "    var data3 = []\n",
       "    var data4 = []\n",
       "    \n",
       "    data.push({ 'state': 'California', 'population': 38953142 });\n",
       "    data2.push({ 'state': 'California', 'population': 39209127 });\n",
       "    data3.push({ 'state': 'California', 'population': 39399349 });\n",
       "    data4.push({ 'state': 'California', 'population': 39557045 });\n",
       "    \n",
       "    data.push({ 'state': 'Texas', 'population': 27486814 });\n",
       "    data2.push({ 'state': 'Texas', 'population': 27937492 });\n",
       "    data3.push({ 'state': 'Texas', 'population': 28322717 });\n",
       "    data4.push({ 'state': 'Texas', 'population': 28701845 });\n",
       "    \n",
       "    data.push({ 'state': 'Florida', 'population': 20224249 });\n",
       "    data2.push({ 'state': 'Florida', 'population': 20629982 });\n",
       "    data3.push({ 'state': 'Florida', 'population': 20976812 });\n",
       "    data4.push({ 'state': 'Florida', 'population': 21299325 });\n",
       "    \n",
       "    data.push({ 'state': 'New York', 'population': 19661411 });\n",
       "    data2.push({ 'state': 'New York', 'population': 19641589 });\n",
       "    data3.push({ 'state': 'New York', 'population': 19590719 });\n",
       "    data4.push({ 'state': 'New York', 'population': 19542209 });\n",
       "    \n",
       "    data.push({ 'state': 'Pennsylvania', 'population': 12785759 });\n",
       "    data2.push({ 'state': 'Pennsylvania', 'population': 12783538 });\n",
       "    data3.push({ 'state': 'Pennsylvania', 'population': 12790447 });\n",
       "    data4.push({ 'state': 'Pennsylvania', 'population': 12807060 });\n",
       "    \n",
       "d3.select(\"#chart_d3_2 svg\").remove()\n",
       "    var margin = {top: 50, right: 50, bottom: 120, left:50},\n",
       "        width = 800 - margin.left - margin.right,\n",
       "        height = 400 - margin.top - margin.bottom;\n",
       "    var x = d3.scale.ordinal()\n",
       "        .rangeRoundBands([0, width], .25);\n",
       "    var y = d3.scale.linear()\n",
       "        .range([height, 0]);\n",
       "    \n",
       "    var xAxis = d3.svg.axis()\n",
       "        .scale(x)\n",
       "        .orient(\"bottom\");\n",
       "    var yAxis = d3.svg.axis()\n",
       "        .scale(y)\n",
       "        .orient(\"left\")\n",
       "        .ticks(10)\n",
       "        .tickFormat(d3.format('.1s'));\n",
       "    \n",
       "    var svg = d3.select(\"#chart_d3_2\").append(\"svg\")\n",
       "        .attr(\"width\", width + margin.left + margin.right)\n",
       "        .attr(\"height\", height + margin.top + margin.bottom)\n",
       "        .append(\"g\")\n",
       "        .attr(\"transform\", \"translate(\" + margin.left + \",\" + margin.top + \")\");\n",
       "    x.domain(data.map(function(d){ return d.state;}));\n",
       "    y.domain([0, d3.max(data, function(d) { return d.population; })]);\n",
       "    \n",
       "    svg.append(\"g\")\n",
       "        .attr(\"class\", \"x axis\")\n",
       "        .attr(\"transform\", \"translate(0,\" + height + \")\")\n",
       "        .call(xAxis);\n",
       "    svg.append(\"g\")\n",
       "        .attr(\"class\", \"y axis\")\n",
       "        .call(yAxis)\n",
       "        .append(\"text\")\n",
       "        .attr(\"transform\", \"rotate(-90)\")\n",
       "        .attr(\"y\",6)\n",
       "        .attr(\"dy\", \".71em\")\n",
       "        .style(\"text-anchor\", \"end\")\n",
       "        .text(\"Population\");\n",
       "    svg.selectAll(\".bar2015\")\n",
       "        .data(data)\n",
       "        .enter().append(\"rect\")\n",
       "        .attr(\"class\", \"bar2015\")\n",
       "        .attr(\"x\", function(d) { return x(d.state); })\n",
       "        .attr(\"width\", x.rangeBand()/4)\n",
       "        .attr(\"y\", function(d) {return y(d.population); })\n",
       "        .attr(\"height\", function(d) { return height - y(d.population); });\n",
       "    svg.selectAll(\".bar2016\")\n",
       "        .data(data2)\n",
       "        .enter().append(\"rect\")\n",
       "        .attr(\"class\", \"bar2016\")\n",
       "        .attr(\"x\", function(d) { return (x(d.state)+x.rangeBand()/4); })\n",
       "        .attr(\"width\", x.rangeBand()/4)\n",
       "        .attr(\"y\", function(d) {return y(d.population); })\n",
       "        .attr(\"height\", function(d) { return height - y(d.population); });\n",
       "    svg.selectAll(\".bar2017\")\n",
       "        .data(data3)\n",
       "        .enter().append(\"rect\")\n",
       "        .attr(\"class\", \"bar2017\")\n",
       "        .attr(\"x\", function(d) { return (x(d.state)+2*x.rangeBand()/4); })\n",
       "        .attr(\"width\", x.rangeBand()/4)\n",
       "        .attr(\"y\", function(d) {return y(d.population); })\n",
       "        .attr(\"height\", function(d) { return height - y(d.population); });\n",
       "    svg.selectAll(\".bar2018\")\n",
       "        .data(data4)\n",
       "        .enter().append(\"rect\")\n",
       "        .attr(\"class\", \"bar2018\")\n",
       "        .attr(\"x\", function(d) { return (x(d.state)+3*x.rangeBand()/4); })\n",
       "        .attr(\"width\", x.rangeBand()/4)\n",
       "        .attr(\"y\", function(d) {return y(d.population); })\n",
       "        .attr(\"height\", function(d) { return height - y(d.population); });\n",
       "});"
      ],
      "text/plain": [
       "<IPython.core.display.Javascript object>"
      ]
     },
     "metadata": {},
     "output_type": "display_data"
    }
   ],
   "source": [
    "display(Javascript(myTemplate.render(\n",
    "    data=states.sort_values(['POPESTIMATE2018'], ascending=False)[:5].itertuples()\n",
    ")))"
   ]
  },
  {
   "cell_type": "markdown",
   "metadata": {},
   "source": [
    "## 地区分布图 "
   ]
  },
  {
   "cell_type": "markdown",
   "metadata": {},
   "source": [
    "参考资料：http://bl.ocks.org/EvertLagerberg/e5183b20ef9578bcce8f208686e77c30#unemployment.tsv"
   ]
  },
  {
   "cell_type": "code",
   "execution_count": 15,
   "metadata": {},
   "outputs": [
    {
     "data": {
      "application/javascript": [
       "require.config({\n",
       "    paths: {\n",
       "        d3: '//cdnjs.cloudflare.com/ajax/libs/d3/3.5.5/d3.min',\n",
       "        queue: '//cdnjs.cloudflare.com/ajax/libs/queue-async/1.0.7/queue.min',\n",
       "        topojson: '//cdnjs.cloudflare.com/ajax/libs/topojson/3.0.2/topojson.min'\n",
       "    }\n",
       "})\n"
      ],
      "text/plain": [
       "<IPython.core.display.Javascript object>"
      ]
     },
     "metadata": {},
     "output_type": "display_data"
    }
   ],
   "source": [
    "%%javascript\n",
    "require.config({\n",
    "    paths: {\n",
    "        d3: '//cdnjs.cloudflare.com/ajax/libs/d3/3.5.5/d3.min',\n",
    "        queue: '//cdnjs.cloudflare.com/ajax/libs/queue-async/1.0.7/queue.min',\n",
    "        topojson: '//cdnjs.cloudflare.com/ajax/libs/topojson/3.0.2/topojson.min'\n",
    "    }\n",
    "})"
   ]
  },
  {
   "cell_type": "code",
   "execution_count": 16,
   "metadata": {},
   "outputs": [
    {
     "data": {
      "text/html": [
       "\n",
       "<style>\n",
       "\n",
       ".counties {\n",
       "    fill: none;\n",
       "}\n",
       ".states {\n",
       "    fill: none;\n",
       "    stroke: #fff;\n",
       "    stroke-linejoin: round;\n",
       "}\n",
       "\n",
       ".q0-9 { fill:rgb(247,251,255)}\n",
       ".q1-9 { fill:rgb(222,235,247)}\n",
       ".q2-9 { fill:rgb(198,219,239)}\n",
       ".q3-9 { fill:rgb(158,202,225)}\n",
       ".q4-9 { fill:rgb(107,174,214)}\n",
       ".q5-9 { fill:rgb(66,146,198)}\n",
       ".q6-9 { fill:rgb(33,113,181)}\n",
       ".q7-9 { fill:rgb(8,81,156)}\n",
       ".q8-9 { fill:rgb(8,48,107)}\n",
       "</style>\n",
       "<div id=\"choropleth\" />\n"
      ],
      "text/plain": [
       "<IPython.core.display.HTML object>"
      ]
     },
     "metadata": {},
     "output_type": "display_data"
    }
   ],
   "source": [
    "display(HTML(\"\"\"\n",
    "<style>\n",
    "\n",
    ".counties {\n",
    "    fill: none;\n",
    "}\n",
    ".states {\n",
    "    fill: none;\n",
    "    stroke: #fff;\n",
    "    stroke-linejoin: round;\n",
    "}\n",
    "\n",
    ".q0-9 { fill:rgb(247,251,255)}\n",
    ".q1-9 { fill:rgb(222,235,247)}\n",
    ".q2-9 { fill:rgb(198,219,239)}\n",
    ".q3-9 { fill:rgb(158,202,225)}\n",
    ".q4-9 { fill:rgb(107,174,214)}\n",
    ".q5-9 { fill:rgb(66,146,198)}\n",
    ".q6-9 { fill:rgb(33,113,181)}\n",
    ".q7-9 { fill:rgb(8,81,156)}\n",
    ".q8-9 { fill:rgb(8,48,107)}\n",
    "</style>\n",
    "<div id=\"choropleth\" />\n",
    "\"\"\"))"
   ]
  },
  {
   "cell_type": "code",
   "execution_count": 17,
   "metadata": {},
   "outputs": [],
   "source": [
    "choropleth = jinja2.Template(\"\"\"\n",
    "require([\"d3\",\"queue\",\"topojson\"], function(d3,queue,topojson){\n",
    "\n",
    "d3.select(\"#choropleth svg\").remove()\n",
    "\n",
    "var width = 960,\n",
    "    height = 600;\n",
    "\n",
    "var rateById = d3.map();\n",
    "\n",
    "var quantize = d3.scale.quantize()\n",
    "    .domain([0, .15])\n",
    "    .range(d3.range(9).map(function(i) { return \"q\" + i + '-9'}));\n",
    "\n",
    "var projection = d3.geo.albersUsa()\n",
    "    .scale(1280)\n",
    "    .translate([width / 2, height / 2]);\n",
    "\n",
    "var path = d3.geo.path()\n",
    "    .projection(projection);\n",
    "    \n",
    "var svg = d3.select(\"#choropleth\").append(\"svg\")\n",
    "    .attr(\"width\", width)\n",
    "    .attr(\"height\", height)\n",
    "\n",
    "queue()\n",
    "    .defer(d3.json, \"us.json\")\n",
    "    .defer(d3.tsv, \"unemployment.tsv\", function(d) { rateById.set(d.id, +d.rate); })\n",
    "    .await(ready);\n",
    "\n",
    "function ready(error, us) {\n",
    "    if (error) throw error;\n",
    "    svg.append(\"g\")\n",
    "        .attr(\"class\", \"counties\")\n",
    "      .selectAll(\"path\")\n",
    "        .data(topojson.feature(us, us.objects.counties).features)\n",
    "      .enter().append(\"path\")\n",
    "        .attr(\"class\", function(d) { return quantize(rateById.get(d.id)); })\n",
    "        .attr(\"d\", path);\n",
    "    svg.append(\"path\")\n",
    "        .datum(topojson.mesh(us, us.objects.states, function(a, b) { return a !== b; }))\n",
    "        .attr(\"class\", \"states\")\n",
    "        .attr(\"d\", path);\n",
    "}\n",
    "});\n",
    "\"\"\")"
   ]
  },
  {
   "cell_type": "code",
   "execution_count": 18,
   "metadata": {},
   "outputs": [
    {
     "data": {
      "application/javascript": [
       "\n",
       "require([\"d3\",\"queue\",\"topojson\"], function(d3,queue,topojson){\n",
       "\n",
       "d3.select(\"#choropleth svg\").remove()\n",
       "\n",
       "var width = 960,\n",
       "    height = 600;\n",
       "\n",
       "var rateById = d3.map();\n",
       "\n",
       "var quantize = d3.scale.quantize()\n",
       "    .domain([0, .15])\n",
       "    .range(d3.range(9).map(function(i) { return \"q\" + i + '-9'}));\n",
       "\n",
       "var projection = d3.geo.albersUsa()\n",
       "    .scale(1280)\n",
       "    .translate([width / 2, height / 2]);\n",
       "\n",
       "var path = d3.geo.path()\n",
       "    .projection(projection);\n",
       "    \n",
       "var svg = d3.select(\"#choropleth\").append(\"svg\")\n",
       "    .attr(\"width\", width)\n",
       "    .attr(\"height\", height)\n",
       "\n",
       "queue()\n",
       "    .defer(d3.json, \"us.json\")\n",
       "    .defer(d3.tsv, \"unemployment.tsv\", function(d) { rateById.set(d.id, +d.rate); })\n",
       "    .await(ready);\n",
       "\n",
       "function ready(error, us) {\n",
       "    if (error) throw error;\n",
       "    svg.append(\"g\")\n",
       "        .attr(\"class\", \"counties\")\n",
       "      .selectAll(\"path\")\n",
       "        .data(topojson.feature(us, us.objects.counties).features)\n",
       "      .enter().append(\"path\")\n",
       "        .attr(\"class\", function(d) { return quantize(rateById.get(d.id)); })\n",
       "        .attr(\"d\", path);\n",
       "    svg.append(\"path\")\n",
       "        .datum(topojson.mesh(us, us.objects.states, function(a, b) { return a !== b; }))\n",
       "        .attr(\"class\", \"states\")\n",
       "        .attr(\"d\", path);\n",
       "}\n",
       "});"
      ],
      "text/plain": [
       "<IPython.core.display.Javascript object>"
      ]
     },
     "metadata": {},
     "output_type": "display_data"
    }
   ],
   "source": [
    "display(Javascript(choropleth.render()))"
   ]
  }
 ],
 "metadata": {
  "kernelspec": {
   "display_name": "Python 3",
   "language": "python",
   "name": "python3"
  },
  "language_info": {
   "codemirror_mode": {
    "name": "ipython",
    "version": 3
   },
   "file_extension": ".py",
   "mimetype": "text/x-python",
   "name": "python",
   "nbconvert_exporter": "python",
   "pygments_lexer": "ipython3",
   "version": "3.7.3"
  }
 },
 "nbformat": 4,
 "nbformat_minor": 2
}
