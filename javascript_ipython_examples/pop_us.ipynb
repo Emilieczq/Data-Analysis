{
 "cells": [
  {
   "cell_type": "markdown",
   "metadata": {},
   "source": [
    "# 2018 美国人口"
   ]
  },
  {
   "cell_type": "code",
   "execution_count": 1,
   "metadata": {},
   "outputs": [],
   "source": [
    "import numpy as np\n",
    "import pandas as pd\n",
    "import matplotlib.pyplot as pyplot\n",
    "from urllib.request import urlopen"
   ]
  },
  {
   "cell_type": "code",
   "execution_count": 2,
   "metadata": {},
   "outputs": [],
   "source": [
    "%matplotlib inline"
   ]
  },
  {
   "cell_type": "markdown",
   "metadata": {},
   "source": [
    "下载 __sub-est2018_all.csv__ 并储存在本文件同一路径下。"
   ]
  },
  {
   "cell_type": "code",
   "execution_count": 3,
   "metadata": {},
   "outputs": [],
   "source": [
    "pop = pd.read_csv('sub-est2018_all.csv', encoding='latin-1',dtype={'STATE':'str','COUNTY':'str'})\n",
    "pop_by_state = pop[pop.SUMLEV == 40] # SUMLEV 40表示洲，50表示郡\n",
    "states = pop_by_state[['STNAME','POPESTIMATE2015','POPESTIMATE2016','POPESTIMATE2017','POPESTIMATE2018']]"
   ]
  },
  {
   "cell_type": "markdown",
   "metadata": {},
   "source": [
    "## 2018年美国人口最多的五个洲"
   ]
  },
  {
   "cell_type": "code",
   "execution_count": 4,
   "metadata": {
    "scrolled": true
   },
   "outputs": [],
   "source": [
    "sorted = states.sort_values(by='POPESTIMATE2018',ascending=False)[:5]"
   ]
  },
  {
   "cell_type": "code",
   "execution_count": 5,
   "metadata": {},
   "outputs": [
    {
     "name": "stdout",
     "output_type": "stream",
     "text": [
      "             STNAME  POPESTIMATE2015  POPESTIMATE2016  POPESTIMATE2017  \\\n",
      "2849     California         38953142         39209127         39399349   \n",
      "71188         Texas         27486814         27937492         28322717   \n",
      "5031        Florida         20224249         20629982         20976812   \n",
      "46217      New York         19661411         19641589         19590719   \n",
      "61453  Pennsylvania         12785759         12783538         12790447   \n",
      "\n",
      "       POPESTIMATE2018  \n",
      "2849          39557045  \n",
      "71188         28701845  \n",
      "5031          21299325  \n",
      "46217         19542209  \n",
      "61453         12807060  \n"
     ]
    }
   ],
   "source": [
    "print(sorted)"
   ]
  },
  {
   "cell_type": "code",
   "execution_count": 6,
   "metadata": {},
   "outputs": [],
   "source": [
    "from IPython.core.display import display, Javascript,HTML"
   ]
  },
  {
   "cell_type": "code",
   "execution_count": 7,
   "metadata": {},
   "outputs": [
    {
     "data": {
      "text/html": [
       "\n",
       "<style>\n",
       "\n",
       ".bar {\n",
       "    fill: steelblue;\n",
       "}\n",
       ".bar:hover {\n",
       "    fill: brown;\n",
       "}\n",
       ".axis {\n",
       "    font: 10px sans-serif;\n",
       "}\n",
       ".axis path,\n",
       ".axis line {\n",
       "    fill: none;\n",
       "    stroke: #000;\n",
       "}\n",
       ".x.axis path {\n",
       "    display: none;\n",
       "}\n",
       "</style>\n",
       "<div id=\"chart_d3\"/>\n"
      ],
      "text/plain": [
       "<IPython.core.display.HTML object>"
      ]
     },
     "metadata": {},
     "output_type": "display_data"
    }
   ],
   "source": [
    "display(HTML(\"\"\"\n",
    "<style>\n",
    "\n",
    ".bar {\n",
    "    fill: steelblue;\n",
    "}\n",
    ".bar:hover {\n",
    "    fill: brown;\n",
    "}\n",
    ".axis {\n",
    "    font: 10px sans-serif;\n",
    "}\n",
    ".axis path,\n",
    ".axis line {\n",
    "    fill: none;\n",
    "    stroke: #000;\n",
    "}\n",
    ".x.axis path {\n",
    "    display: none;\n",
    "}\n",
    "</style>\n",
    "<div id=\"chart_d3\"/>\n",
    "\"\"\"))"
   ]
  },
  {
   "cell_type": "code",
   "execution_count": 8,
   "metadata": {},
   "outputs": [],
   "source": [
    "import jinja2"
   ]
  },
  {
   "cell_type": "markdown",
   "metadata": {},
   "source": [
    "导入库"
   ]
  },
  {
   "cell_type": "code",
   "execution_count": 9,
   "metadata": {},
   "outputs": [
    {
     "data": {
      "application/javascript": [
       "require.config({\n",
       "    paths: {\n",
       "        d3: '//cdnjs.cloudflare.com/ajax/libs/d3/3.5.5/d3.min'\n",
       "    }\n",
       "})\n"
      ],
      "text/plain": [
       "<IPython.core.display.Javascript object>"
      ]
     },
     "metadata": {},
     "output_type": "display_data"
    }
   ],
   "source": [
    "%%javascript\n",
    "require.config({\n",
    "    paths: {\n",
    "        d3: '//cdnjs.cloudflare.com/ajax/libs/d3/3.5.5/d3.min'\n",
    "    }\n",
    "})"
   ]
  },
  {
   "cell_type": "code",
   "execution_count": 10,
   "metadata": {},
   "outputs": [],
   "source": [
    "myTemplate = jinja2.Template(\"\"\"\n",
    "require([\"d3\"], function(d3){\n",
    "    var data = []\n",
    "    {% for row in data %}\n",
    "    data.push({ 'state': '{{ row[1] }}', 'population': {{ row[5] }} });\n",
    "    {% endfor %}\n",
    "d3.select(\"#chart_d3 svg\").remove()\n",
    "    var margin = {top: 20, right: 20, bottom: 20, left:20},\n",
    "        width = 800 - margin.left - margin.right,\n",
    "        height = 400 - margin.top - margin.bottom;\n",
    "    var x = d3.scale.ordinal()\n",
    "        .rangeRoundBands([0, width], .25);\n",
    "    var y = d3.scale.linear()\n",
    "        .range([height, 0]);\n",
    "    \n",
    "    var xAxis = d3.svg.axis()\n",
    "        .scale(x)\n",
    "        .orient(\"bottom\");\n",
    "    var yAxis = d3.svg.axis()\n",
    "        .scale(y)\n",
    "        .orient(\"left\")\n",
    "        .ticks(10)\n",
    "        .tickFormat(d3.format('.1s'));\n",
    "    \n",
    "    var svg = d3.select(\"#chart_d3\").append(\"svg\")\n",
    "        .attr(\"width\", width + margin.left + margin.right)\n",
    "        .attr(\"height\", height + margin.top + margin.bottom)\n",
    "        .append(\"g\")\n",
    "        .attr(\"transform\", \"translate(\" + margin.left + \",\" + margin.top + \")\");\n",
    "    x.domain(data.map(function(d){ return d.state;}));\n",
    "    y.domain([0, d3.max(data, function(d) { return d.population; })]);\n",
    "    \n",
    "    svg.append(\"g\")\n",
    "        .attr(\"class\", \"x axis\")\n",
    "        .attr(\"transform\", \"translate(0,\" + height + \")\")\n",
    "        .call(xAxis);\n",
    "    svg.append(\"g\")\n",
    "        .attr(\"class\", \"y axis\")\n",
    "        .call(yAxis)\n",
    "        .append(\"text\")\n",
    "        .attr(\"transform\", \"rotate(-90)\")\n",
    "        .attr(\"y\",6)\n",
    "        .attr(\"dy\", \".71em\")\n",
    "        .style(\"text-anchor\", \"end\")\n",
    "        .text(\"Population\");\n",
    "    svg.selectAll(\".bar\")\n",
    "        .data(data)\n",
    "        .enter().append(\"rect\")\n",
    "        .attr(\"class\", \"bar\")\n",
    "        .attr(\"x\", function(d) { return x(d.state); })\n",
    "        .attr(\"width\", x.rangeBand())\n",
    "        .attr(\"y\", function(d) {return y(d.population); })\n",
    "        .attr(\"height\", function(d) { return height - y(d.population); });\n",
    "});\n",
    "\"\"\");"
   ]
  },
  {
   "cell_type": "markdown",
   "metadata": {},
   "source": [
    "运行下列代码后，输出的图表将展示在 _import jinja2_ 前面。"
   ]
  },
  {
   "cell_type": "code",
   "execution_count": 11,
   "metadata": {},
   "outputs": [
    {
     "data": {
      "application/javascript": [
       "\n",
       "require([\"d3\"], function(d3){\n",
       "    var data = []\n",
       "    \n",
       "    data.push({ 'state': 'California', 'population': 39557045 });\n",
       "    \n",
       "    data.push({ 'state': 'Texas', 'population': 28701845 });\n",
       "    \n",
       "    data.push({ 'state': 'Florida', 'population': 21299325 });\n",
       "    \n",
       "    data.push({ 'state': 'New York', 'population': 19542209 });\n",
       "    \n",
       "    data.push({ 'state': 'Pennsylvania', 'population': 12807060 });\n",
       "    \n",
       "d3.select(\"#chart_d3 svg\").remove()\n",
       "    var margin = {top: 20, right: 20, bottom: 20, left:20},\n",
       "        width = 800 - margin.left - margin.right,\n",
       "        height = 400 - margin.top - margin.bottom;\n",
       "    var x = d3.scale.ordinal()\n",
       "        .rangeRoundBands([0, width], .25);\n",
       "    var y = d3.scale.linear()\n",
       "        .range([height, 0]);\n",
       "    \n",
       "    var xAxis = d3.svg.axis()\n",
       "        .scale(x)\n",
       "        .orient(\"bottom\");\n",
       "    var yAxis = d3.svg.axis()\n",
       "        .scale(y)\n",
       "        .orient(\"left\")\n",
       "        .ticks(10)\n",
       "        .tickFormat(d3.format('.1s'));\n",
       "    \n",
       "    var svg = d3.select(\"#chart_d3\").append(\"svg\")\n",
       "        .attr(\"width\", width + margin.left + margin.right)\n",
       "        .attr(\"height\", height + margin.top + margin.bottom)\n",
       "        .append(\"g\")\n",
       "        .attr(\"transform\", \"translate(\" + margin.left + \",\" + margin.top + \")\");\n",
       "    x.domain(data.map(function(d){ return d.state;}));\n",
       "    y.domain([0, d3.max(data, function(d) { return d.population; })]);\n",
       "    \n",
       "    svg.append(\"g\")\n",
       "        .attr(\"class\", \"x axis\")\n",
       "        .attr(\"transform\", \"translate(0,\" + height + \")\")\n",
       "        .call(xAxis);\n",
       "    svg.append(\"g\")\n",
       "        .attr(\"class\", \"y axis\")\n",
       "        .call(yAxis)\n",
       "        .append(\"text\")\n",
       "        .attr(\"transform\", \"rotate(-90)\")\n",
       "        .attr(\"y\",6)\n",
       "        .attr(\"dy\", \".71em\")\n",
       "        .style(\"text-anchor\", \"end\")\n",
       "        .text(\"Population\");\n",
       "    svg.selectAll(\".bar\")\n",
       "        .data(data)\n",
       "        .enter().append(\"rect\")\n",
       "        .attr(\"class\", \"bar\")\n",
       "        .attr(\"x\", function(d) { return x(d.state); })\n",
       "        .attr(\"width\", x.rangeBand())\n",
       "        .attr(\"y\", function(d) {return y(d.population); })\n",
       "        .attr(\"height\", function(d) { return height - y(d.population); });\n",
       "});"
      ],
      "text/plain": [
       "<IPython.core.display.Javascript object>"
      ]
     },
     "metadata": {},
     "output_type": "display_data"
    }
   ],
   "source": [
    "display(Javascript(myTemplate.render(\n",
    "    data=states.sort_values(['POPESTIMATE2018'], ascending=False)[:5].itertuples()\n",
    ")))"
   ]
  },
  {
   "cell_type": "code",
   "execution_count": null,
   "metadata": {},
   "outputs": [],
   "source": []
  },
  {
   "cell_type": "code",
   "execution_count": null,
   "metadata": {},
   "outputs": [],
   "source": []
  }
 ],
 "metadata": {
  "kernelspec": {
   "display_name": "Python 3",
   "language": "python",
   "name": "python3"
  },
  "language_info": {
   "codemirror_mode": {
    "name": "ipython",
    "version": 3
   },
   "file_extension": ".py",
   "mimetype": "text/x-python",
   "name": "python",
   "nbconvert_exporter": "python",
   "pygments_lexer": "ipython3",
   "version": "3.7.3"
  }
 },
 "nbformat": 4,
 "nbformat_minor": 2
}
